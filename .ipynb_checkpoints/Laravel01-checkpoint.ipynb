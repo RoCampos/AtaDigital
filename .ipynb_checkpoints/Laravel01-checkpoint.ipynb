{
 "cells": [
  {
   "cell_type": "markdown",
   "metadata": {},
   "source": [
    "# Laravel\n",
    "\n",
    "O laravel é um framework para desenvolvimento de aplicações web. Ele é beseado na arquitetura MVC. \n"
   ]
  },
  {
   "cell_type": "markdown",
   "metadata": {},
   "source": [
    "## Pré-requisitos\n",
    "\n",
    "\n",
    "* php versão 7.* (mais recente)\n",
    "* composer \n",
    "* banco de dados (este tutorial usa MySql)\n",
    "\n",
    "\n"
   ]
  },
  {
   "cell_type": "markdown",
   "metadata": {},
   "source": [
    "## Inicialização\n",
    "\n",
    "Este tutorial ilustrará um exemplo de aplicação que consiste em uma ata digital. O problema é definod a seguir:\n",
    "\n",
    "<br>\n",
    "<center>  **Ata Digital**  </center>\n",
    "\n",
    "O professor Romerito está desenvolvendo um projeto para a disciplina de Banco de Dados e Projeto Web. O projeto consiste em gerar atas digitais com as informações de uma reunião. A ata deve conter assunto, data de realização, responsável. Observe-se que uma ata pode ter muitos encaminhamentos. Cada encaminhamento consiste em um assunto, um responsável e uma tarefa. Observe que o responsável pela tarefa do encaminhamento é um aluno. Um professor precisa ter as seguintes informações: nome, matrícula, formação e titulação. Um aluno deve conter as seguintes informações: nome, cpf, matrícula e curso. Por fim, as atas estão associadas a um projeto. O projeto deve conter um nome e responsável (orientador).\n",
    "\n",
    "<br>\n",
    "\n",
    "\n",
    "<center>  **Modelo Relacional**  </center>\n",
    "\n",
    "Projeto = (id_proj, nome, id_prof)\n",
    "\n",
    "Professor=(id_prof, nome, formação, titulação) \n",
    "\n",
    "Aluno=(id_aluno, nome, cpf, curso)\n",
    "\n",
    "Ata=(id_ata, assunto, relatóri, data, id_prof) \n",
    "\n",
    "Encaminhamento=(id_enc, assunto, id_aluno, tarefa) \n",
    "\n",
    "Projeto_Ata = (*id_ata, id_proj*)\n",
    "\n",
    "Ata_Aluno = (*id_ata, id_aluno*) \n",
    "\n",
    "Ata_encaminhamento = (*id_ata, id_enc*)\n",
    "\n"
   ]
  },
  {
   "cell_type": "markdown",
   "metadata": {},
   "source": [
    "# Criação do Projeto \n",
    "\n",
    "Após realizaras as instalações das dependências mencionadas no início do tutorial, executa-se o comando abaixo:"
   ]
  },
  {
   "cell_type": "code",
   "execution_count": null,
   "metadata": {},
   "outputs": [],
   "source": [
    "composer create-project --prefer-dist laravel/laravel AtaDigital"
   ]
  },
  {
   "cell_type": "markdown",
   "metadata": {},
   "source": []
  },
  {
   "cell_type": "markdown",
   "metadata": {},
   "source": [
    "Após a execução do comando, um novo diretório com nom **AtaDigital** será criado. Ele conterá todos os arquivos do laravel necessário a execução do projeto. Para executar o projeto, use o comando abaixo:"
   ]
  },
  {
   "cell_type": "code",
   "execution_count": 1,
   "metadata": {},
   "outputs": [
    {
     "data": {
      "text/plain": [
       "\u001b[31;1mPHP Parse error: Syntax error, unexpected T_STRING on line 1\u001b[39;22m"
      ]
     },
     "execution_count": 1,
     "metadata": {},
     "output_type": "execute_result"
    }
   ],
   "source": [
    "php artisan serve"
   ]
  },
  {
   "cell_type": "markdown",
   "metadata": {},
   "source": [
    "Após executar o comando ilustrado acima, é possível acessar o endereço indicado em sua saída para ver o projeto já em execução. Use um dos endereços abaixo em seu navegador:\n",
    "\n",
    "* localhost:8000/\n",
    "* 127.0.0.1:8000/\n",
    "\n",
    "Ambos os endereços serão reconhecidos e uma página com uma mensagem de bem-vindo será exibida para o usuário.\n",
    "\n",
    "Agora vejamos alguns pontos importantes desta primeira execução."
   ]
  },
  {
   "cell_type": "markdown",
   "metadata": {},
   "source": [
    "## Rotas e Views\n",
    "\n",
    "Até o presente momento, apenas criamos a estrutura do projeto. Entretanto, não temos nenhum código funcional a respeito da aplicação problema.\n",
    "\n",
    "O primeiro passo é definir as rotas da aplicação. As rotas são os endereços que vão permitir a nevação no sistema. Inicialmente, vamos examinar o dierório denominado **routes**.\n",
    "\n",
    "Este diretório contém 4 arquivos: \n",
    "* api.php\n",
    "* channels.php\n",
    "* console.php\n",
    "* web.php\n",
    "\n",
    "No momento, vamos analisar apenas o arquivo **routes/web.php**. Em resumo, o arquivo web.php é o responsável por dar início ao tratamento das solicitações do usuário. Ele permite que façamos a associação entre uma rota (endereço web do nosso sistema) a sua funcionalidade. Esta funcionalidade consiste, por exemplo, em montar uma página solicitida pelo cliente.\n",
    "\n",
    "Quando você executou *php artisan serve* no prompt e foi ao nevegador viu uma página. Esta página foi solicitada através da rota '/' e uma respposta em html foi retornada ao navegador. Isso tudo foi realiado por uma função no arquivo web.php.\n",
    "\n",
    "Veja abaixo o conteúdo do arquivo web.php:"
   ]
  },
  {
   "cell_type": "code",
   "execution_count": null,
   "metadata": {},
   "outputs": [],
   "source": [
    "Route::get('/', function () {\n",
    "    return view ('welcome');\n",
    "});"
   ]
  },
  {
   "cell_type": "markdown",
   "metadata": {},
   "source": [
    "O código acima cria uma rota denominada '/'. Esta rota é o endereço raiz do sistema (index, digamos). \n",
    "\n",
    "O trecho de código criar uma função que suporta requisições do tipo GET para a rota '/'. Além disso, associa a esta rota uma funcionaliade. \n",
    "\n",
    "Observe que a função **Route::get()** possui dois parâmetros:\n",
    "* '/'\n",
    "* function () {}\n",
    "\n",
    "O primeiro parâmetro é o caminho que estamos definindo na rota. O segundo parâmetro é uma função anônima que vai tratar a solicitação. Este tratamento consiste em realizar alguma funcionalidade e retornar uma **view**. Observe que a função anônima retorna o resultado da execução de **view('welcome')**. \n",
    "\n",
    "Observe o uso da função view. Ela é uma função **Helper**. O laravel possui um conjunto de funções denominada de helpers. Elas tem escopo global. Neste exemplo, a função view está recebendo apenas um parâmetro: 'welcome'.\n",
    "Mas, o que significa esta parâmetro? Ele é um arquivo com conteúdo HTML cujo conteúdo será utilizado como resposta a solicitação do usuário.\n",
    "\n",
    "Este arquivo está armazenado em **resources/views/welcome.blade.php**. Neste caso, a função view assume que o nome 'welcome' será reconhecido como 'welcome.blade.php' e o arquivo correspondente será procurado no diretório resourses/views."
   ]
  },
  {
   "cell_type": "markdown",
   "metadata": {},
   "source": [
    "### Adicionando Recurso 'Professor'\n",
    "\n",
    "Observe que devemos adicionar um recurso denominado Professor. Neste caso, o recurso é uma entidade associada a um professor, conforme é definido no problema-aplicação.\n",
    "\n",
    "O primeiro passo é definir as rotas da aplicação:\n",
    "\n",
    "* '/professores' - para mostrar todos os professores cadastrados;\n",
    "* '/professores/adicionar' - para permitir o cadastro de um novo professor;\n",
    "* '/professores/remover' - para remover um professor do sistema(torná-lo não visível, pelo menos);\n",
    "* '/professores/mostrar/id' - para mostrar os detalhes das informações de um professor pelo seu identifiador;\n",
    "\n",
    "Neste momento, não precisamos de todo o aparado do CSS e JavaScript para adicionar as rotas e páginas de modo que a aplicação fica funcional. Apenas não registraremos nada no banco de dados, ainda. Apenas será realizado o registro das rotas e uma navegação mínima.\n",
    "\n",
    "Atualize o arquivo routes/web.php para o código abaixo:"
   ]
  },
  {
   "cell_type": "code",
   "execution_count": null,
   "metadata": {},
   "outputs": [],
   "source": [
    "Route::get('/professores', function() {\n",
    "    //\n",
    "});\n",
    "Route::get('/professores/adicionar', function() {\n",
    "    //\n",
    "});\n",
    "Route::get('/professores/remover', function() {\n",
    "    //\n",
    "});\n",
    "Route::get('/professores/mostrar/{id}', function() {\n",
    "    //\n",
    "});"
   ]
  },
  {
   "cell_type": "markdown",
   "metadata": {},
   "source": [
    "O código acima permite que você acesse os seguintes endereços no seu navegador:\n",
    "\n",
    "* localhost:8000/professores\n",
    "* localhost:8000/professores/remover\n",
    "* localhost:8000/professores/adicionar\n",
    "* localhost:8000/professores/mostrar/XX\n",
    "\n",
    "Observe que ao acessar os endereços acima, o resultado é uma página em branco. Isso ocorre porque não definimos para nenhuma rota o retorno (usando view). Assim, temos uma rota funcional, mas ainda sem retonar uma página com conteúdo. Esse é o próximo passo. \n",
    "\n",
    "Outro detalhe importante, é a rota '/professores/mostrar/XX'. O valor XX no final indica que podemos passar uma informação em seu lugar. Em breve, voltaremos a valor sobre isso.\n",
    "\n",
    "Agora, vamos criar algumas páginas HTML para cada uma das rotas que criamos. Para isso, crie uma diretório chamado **professores** dentro do diretório resources/views/.\n",
    "\n",
    "Em seguida, crie as seguintes páginas:\n",
    "\n",
    "* resources/views/professores/index.blade.php\n",
    "* resources/views/professores/criar.blade.php\n",
    "* resources/views/professores/mostrar.blade.php\n"
   ]
  },
  {
   "cell_type": "code",
   "execution_count": null,
   "metadata": {},
   "outputs": [],
   "source": []
  }
 ],
 "metadata": {
  "kernelspec": {
   "display_name": "PHP",
   "language": "php",
   "name": "jupyter-php"
  },
  "language_info": {
   "file_extension": ".php",
   "mimetype": "text/x-php",
   "name": "PHP",
   "pygments_lexer": "PHP",
   "version": "7.2.7"
  }
 },
 "nbformat": 4,
 "nbformat_minor": 2
}
